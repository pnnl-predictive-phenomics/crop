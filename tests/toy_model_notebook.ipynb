{
 "cells": [
  {
   "cell_type": "markdown",
   "metadata": {},
   "source": [
    "## Toy model 3:\n",
    "\n",
    "<img src=\"ABC_toy_model3.png\" alt=\"Toy Model 3\" width=\"800\"/>"
   ]
  },
  {
   "cell_type": "markdown",
   "metadata": {},
   "source": [
    "## Unit test for ABC toy model 3\n",
    "\n",
    "Current model does have A-->B\n",
    "\n",
    "True model doesn't have A-->B reaction\n",
    "\n",
    "Conditions\n",
    "1. observe growth with A in media but not B\n",
    "2. observe growth with B in media but not A\n",
    "3. observe no growth with A in media but not B - with a knockout for A-->C\n",
    "4. observe growth with B in the media but not A - with a knockout for A-->C"
   ]
  },
  {
   "cell_type": "markdown",
   "metadata": {},
   "source": [
    "### CROP problem formulation (not relaxed)\n",
    "\n",
    "If we want a nogrowth condition where only $B$ is in the media, and not $A$, and we have a growth condition where $A$ is in the media, but not $B$, then we rewrite as below:\n",
    "\n",
    "$$\\begin{array}{lll}\n",
    "\\min_z &  weights^T(1 - z) \\text{\\ \\ \\ \\ \\ \\ if you have to remove a reaction, choose one with lowest likelihood (weight) }\\\\ \\\\\n",
    " &\\begin{array}{lll}\n",
    "& S^Tm + e_{C\\rightarrow} = r_{nogrowth} & \\text{Gibbs free energy-like constraint. Dual version of steady-state constraint. All equality constraints come into this part.}\\\\ \n",
    "& r_{nogrowth,i}\\leq\\Omega\\cdot(1-z_i) & \\text{for $i\\neq \\rightarrow A$ or $\\rightarrow B$ and the reaction is part of the model $z_{i}=1$ then the dual variable, $r$, is {\\it{not}} allowed to be positive. If the reaction is not part of model, then $r$ is allowed to be positive.} \\\\\n",
    "& r_{nogrowth,\\rightarrow A} \\geq 0 & \\text{Dual variable $r$ is allowed to be positive (tight) for A import reaction.}\\\\\n",
    "& r_{nogrowth,\\rightarrow B} \\geq 0 & \\text{Dual variable $r$ is allowed to be positive (tight) for B import reaction.}\\\\ \n",
    "& U_{B_2}\\cdot r_{nogrowth,\\rightarrow B}   \\leq U_{nogrowth} & \\text{The solution to the dual will exactly equal the primal, when this condition is met. Upper bound for $r_{nogrowth,\\rightarrow B}$ } \\\\\n",
    "\\end{array} \\\\\n",
    "& Sv_{growth} = 0 \\text{\\ \\ \\ \\ \\ \\ steady state constraint in growth condition. }\\\\\n",
    "& 0\\leq v_{growth,i} \\leq U_{growth,i}\\cdot z_i  \\text{\\ \\ \\ \\ \\ \\ for $i\\neq \\rightarrow A$ or $\\rightarrow B$. No flux is allowed if you aren't part of the model.}\\\\\n",
    "& v_{growth,\\rightarrow A} <= U_{growth,\\rightarrow A} \\text{\\ \\ \\ \\ \\ \\ upper bound for A import flux reaction}\\\\\n",
    "& v_{growth,\\rightarrow B} <= 0 \\text{\\ \\ \\ \\ \\ \\ upper bound for B import flux reaction} \\\\\n",
    "& v_{growth,C\\rightarrow} \\geq U_{growth,C\\rightarrow} \\text{\\ \\ \\ \\ \\ \\ minimal growth condition} \\\\\n",
    "& z_{\\rightarrow A} = z_{\\rightarrow B} = 1 \\text{\\ \\ \\ \\ \\ \\ both A and B import reactions are in the model} \\\\  % maybe not necessary\n",
    "& z\\in \\{0,1\\} \\text{\\ \\ \\ \\ \\ \\ $Z_i=0$ means the reaction $i$ is not in the model, and $Z_i=1$ means the reaction $i$ is in the model}\n",
    "\\end{array}$$\n",
    "\n",
    "where the constant $M$ balances\n",
    "1. the model's consistency with reaction weights versus\n",
    "2. consistency with growth phenotypes\n",
    "\n",
    "and $ e_{C\\rightarrow}$ is a unit vector which is all zeros except for the export flux for C. This selects for the flux of C (bio growth flux).\n",
    "\n",
    "and $r_{nogrowth}$ is the dual variable associated with the flux bounds in the primal problem (regular FBA). 0 means the bounds are not tight, negative means the lower bound is tight, positive means the upper bound is tight. \n",
    "\n",
    "and $m$ is the dual variable associated with the steady state equality constraint. $m<0$ if relaxing lower bound on steady state would increase growth. $m > 0$ if relaxing the upper bound on steady state would increase growth.\n",
    "\n",
    "and $\\Omega$ is a large postive number\n",
    "\n",
    "where $S$ is\n",
    "\n",
    "|  | $A_{SRC}\\rightarrow A_{int}$ | $A_{int}\\rightarrow B_{int}$ | $B_{int}\\rightarrow C_{int}$ | $C_{int}\\rightarrow C_{SNK}$ |  $A_{int}\\rightarrow C_{int}$  | $B_{SRC}\\rightarrow B_{int}$  |\n",
    "|----------|:-------------:|:-------------:|:-------------:|:-------------:|:-------------:|:-------------:|\n",
    "| $A_{int}$ |+1 |-1 | 0 | 0 |-1 |0 |\n",
    "| $B_{int}$ | 0 |+1 |-1 | 0 | 0 |+1|\n",
    "| $C_{int}$ | 0 | 0 |+1 |-1 |+1 |0 |"
   ]
  },
  {
   "cell_type": "markdown",
   "metadata": {},
   "source": []
  },
  {
   "cell_type": "markdown",
   "metadata": {},
   "source": []
  }
 ],
 "metadata": {
  "kernelspec": {
   "display_name": "CROP_env",
   "language": "python",
   "name": "python3"
  },
  "language_info": {
   "codemirror_mode": {
    "name": "ipython",
    "version": 3
   },
   "file_extension": ".py",
   "mimetype": "text/x-python",
   "name": "python",
   "nbconvert_exporter": "python",
   "pygments_lexer": "ipython3",
   "version": "3.11.7"
  }
 },
 "nbformat": 4,
 "nbformat_minor": 2
}
